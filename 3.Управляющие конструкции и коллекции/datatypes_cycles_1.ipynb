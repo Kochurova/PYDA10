{
 "cells": [
  {
   "cell_type": "markdown",
   "metadata": {},
   "source": [
    "**Задача 1**. Дано слово из латинских букв. Напишите скрипт, который выводит на экран букву из середины слова (если число букв нечетное). Если букв четное число, то на экран выводятся две буквы из середины.  \n",
    "\n",
    "Пример: для 'test' должно выводится 'es', для 'testing' - 't'"
   ]
  },
  {
   "cell_type": "code",
   "execution_count": null,
   "metadata": {},
   "outputs": [],
   "source": [
    "word = input(str('Введите слово:'))\n",
    "wlen = len(word) / 2\n",
    "poz = 0\n",
    "if (len(word) == 0):\n",
    "    print('Необходмо ввести слово!')\n",
    "elif (len(word) == 1):\n",
    "    print(word)  \n",
    "elif((wlen - int(wlen)) == 0): \n",
    "    poz = int(wlen)\n",
    "    print(word[(poz - 1):(poz + 1)])\n",
    "else:\n",
    "    poz = int((len(word) - 1) / 2)\n",
    "    print(word[poz])\n"
   ]
  },
  {
   "cell_type": "markdown",
   "metadata": {},
   "source": [
    "**Задача 2**. Мы делаем MVP dating-сервиса, и у нас есть список парней и девушек (их число может варьироваться):"
   ]
  },
  {
   "cell_type": "code",
   "execution_count": null,
   "metadata": {},
   "outputs": [],
   "source": [
    "boys = ['Peter', 'Alex', 'John', 'Arthur', 'Richard', 'Jayson']\n",
    "girls = ['Kate', 'Liza', 'Kira', 'Emma', 'Trisha', 'Anna']\n",
    "countb = len(boys)\n",
    "countg = len(girls)\n",
    "if (countb != countg):\n",
    "    print('Кто-то может остаться без пары !')\n",
    "else:\n",
    "    boys = sorted(boys)\n",
    "    girls = sorted(girls)\n",
    "    ideal_pairs = zip(boys, girls)\n",
    "    print('Идеальные пары:')\n",
    "    for pairs in ideal_pairs:\n",
    "        print(pairs[0], 'и', pairs[1])\n"
   ]
  },
  {
   "cell_type": "markdown",
   "metadata": {},
   "source": [
    "Выдвигаем гипотезу: лучшие рекомендации мы получим, если просто отсортируем имена по алфавиту и познакомим людей с одинаковыми индексами после сортировки! \"Познакомить\" пары нам поможет функция zip, а в цикле распакуем zip-объект и выведем информацию в виде:\n",
    "\n",
    "Идеальные пары:  \n",
    "Alex и Emma  \n",
    "Arthur и Kate  \n",
    "John и Kira  \n",
    "Peter и Liza  \n",
    "Richard и Trisha  "
   ]
  },
  {
   "cell_type": "markdown",
   "metadata": {},
   "source": [
    "**Внимание! Если количество людей в списках будет не совпадать, то мы никого знакомить не будет и выведем пользователю предупреждение, что кто-то может остаться без пары!**"
   ]
  },
  {
   "cell_type": "markdown",
   "metadata": {},
   "source": [
    "**Задача 3**. У нас есть список, содержащий информацию о среднедневной температуре в Фаренгейтах за недельный период по странам.\n",
    "Необходимо написать код, который рассчитает среднюю температуру за неделю в Цельсиях для каждой страны."
   ]
  },
  {
   "cell_type": "code",
   "execution_count": null,
   "metadata": {},
   "outputs": [],
   "source": [
    "countries_temperature = [\n",
    " ['Thailand', [75.2, 77, 78.8, 73.4, 68, 75.2, 77]],\n",
    " ['Germany', [57.2, 55.4, 59, 59, 53.6, 55.4, 57.2]],\n",
    " ['Russia', [35.6, 37.4, 39.2, 41, 42.8, 39.2, 35.6]],\n",
    " ['Poland', [50, 50, 53.6, 57.2, 55.4, 55.4, 51.8]],\n",
    "]\n",
    "mlen = 0\n",
    "for avg_c in countries_temperature:\n",
    "    sumt = 0\n",
    "    i = 0\n",
    "    if (mlen < len(avg_c[0])):\n",
    "        mlen = len(avg_c[0])\n",
    "    while i < 7:\n",
    "        sumt = sumt + avg_c[1][i]\n",
    "        i = i + 1\n",
    "    avg_t = round(sumt / 7, 1)\n",
    "    print(avg_c[0].ljust(mlen, ' '), 'средняя температура: ' , avg_t)\n"
   ]
  },
  {
   "cell_type": "markdown",
   "metadata": {},
   "source": [
    "**Задача 4.** Дан поток логов по количеству просмотренных страниц для каждого пользователя. Список отсортирован по ID пользователя. Вам необходимо написать алгоритм, который считает среднее значение просмотров на пользователя. \n",
    "Т. е. надо посчитать отношение суммы всех просмотров к количеству уникальных пользователей."
   ]
  },
  {
   "cell_type": "code",
   "execution_count": null,
   "metadata": {},
   "outputs": [],
   "source": [
    "stream = [\n",
    "    '2018-01-01,user1,3',\n",
    "    '2018-01-07,user1,4',\n",
    "    '2018-03-29,user1,1',\n",
    "    '2018-04-04,user1,13',\n",
    "    '2018-01-05,user2,7',\n",
    "    '2018-06-14,user3,4',\n",
    "    '2018-07-02,user3,10',\n",
    "    '2018-03-21,user4,19',\n",
    "    '2018-03-22,user4,4',\n",
    "    '2018-04-22,user4,8',\n",
    "    '2018-05-03,user4,9',\n",
    "    '2018-05-11,user4,11',\n",
    "]\n",
    "llen = len(stream)\n",
    "i = 0\n",
    "sumv = 0\n",
    "quser = 0\n",
    "user = ''\n",
    "while i < llen:\n",
    "    list1 = stream[i].split(',')\n",
    "    sumv = sumv + int(list1[2])\n",
    "    if (user != list1[1]):\n",
    "        quser = quser + 1\n",
    "        user = list1[1] \n",
    "    i = i + 1\n",
    "if (quser != 0):\n",
    "    print(sumv / quser)\n"
   ]
  },
  {
   "cell_type": "markdown",
   "metadata": {},
   "source": [
    "**Задача 5**. Дана статистика рекламных кампаний по дням. Напишите алгоритм, который по паре дата-кампания ищет значение численного столбца. \n",
    "Т. е. для даты '2018-01-01' и 'google' нужно получить число 25. \n",
    "Считайте, что все комбинации дата-кампания уникальны."
   ]
  },
  {
   "cell_type": "code",
   "execution_count": null,
   "metadata": {},
   "outputs": [],
   "source": [
    "stats = [\n",
    "    ['2018-01-01', 'google', 25],\n",
    "    ['2018-01-01', 'yandex', 65],\n",
    "    ['2018-01-01', 'market', 89],\n",
    "    ['2018-01-02', 'google', 574],\n",
    "    ['2018-01-02', 'yandex', 249],\n",
    "    ['2018-01-02', 'market', 994],\n",
    "    ['2018-01-03', 'google', 1843],\n",
    "    ['2018-01-03', 'yandex', 1327],\n",
    "    ['2018-01-03', 'market', 1764],\n",
    "]\n",
    "llist = len(stats)\n",
    "i = 0\n",
    "while i < llist:\n",
    "    ii = 0\n",
    "    while ii < 3:\n",
    "        #print(type(stats[i][ii]))\n",
    "        if ((type(stats[i][ii]) == int) or (type(stats[i][ii]) == float)):\n",
    "            print(stats[i][ii])\n",
    "            break\n",
    "        ii = ii + 1\n",
    "    i = i + 1\n",
    "    "
   ]
  },
  {
   "cell_type": "markdown",
   "metadata": {},
   "source": [
    "**Задача 6**. Дан список вида:"
   ]
  },
  {
   "cell_type": "code",
   "execution_count": null,
   "metadata": {},
   "outputs": [],
   "source": [
    "data = [\n",
    "    [13, 25, 23, 34, 55],\n",
    "    [45, 32, 44, 47, 43],\n",
    "    [12, 33, 23, 95, 38],\n",
    "    [13, 53, 34, 35, 29],\n",
    "    [12, 25, 16, 72, 68]\n",
    "]\n",
    "sum1 = 0\n",
    "i = 0\n",
    "llist = len(data)\n",
    "while i < llist:\n",
    "    sum1 = sum1 + data[i][i]\n",
    "    #print(sum1)\n",
    "    i = i + 1\n",
    "sum1\n"
   ]
  },
  {
   "cell_type": "markdown",
   "metadata": {},
   "source": [
    "Напишите код, который будет вычислять сумму элементов на диагонали. Т. е. 13+32+23+35.  \n",
    "Список может быть любой длины, но всегда является \"квадратным\" (количество элементов во вложенных списках равно их количеству)."
   ]
  }
 ],
 "metadata": {
  "kernelspec": {
   "display_name": "Python 3",
   "language": "python",
   "name": "python3"
  },
  "language_info": {
   "codemirror_mode": {
    "name": "ipython",
    "version": 3
   },
   "file_extension": ".py",
   "mimetype": "text/x-python",
   "name": "python",
   "nbconvert_exporter": "python",
   "pygments_lexer": "ipython3",
   "version": "3.7.6"
  }
 },
 "nbformat": 4,
 "nbformat_minor": 2
}
