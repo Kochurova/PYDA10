{
 "cells": [
  {
   "cell_type": "markdown",
   "metadata": {},
   "source": [
    "## Задание 1"
   ]
  },
  {
   "cell_type": "code",
   "execution_count": null,
   "metadata": {},
   "outputs": [],
   "source": [
    "long_phrase = len(input('Введите длинную строку:'))\n",
    "short_phrase = len(input('Введите короткую строку:'))\n",
    "print(long_phrase > short_phrase)"
   ]
  },
  {
   "cell_type": "markdown",
   "metadata": {},
   "source": [
    "## Задание 2"
   ]
  },
  {
   "cell_type": "code",
   "execution_count": null,
   "metadata": {},
   "outputs": [],
   "source": [
    "bite_size = int(input('Введите объем файла в байтах:'))\n",
    "mb_size = round((bite_size / 1048576), 2)\n",
    "print('Объем файла равен: ' + str(mb_size) + 'Mb')"
   ]
  },
  {
   "cell_type": "markdown",
   "metadata": {},
   "source": [
    "## Задание 3"
   ]
  },
  {
   "cell_type": "code",
   "execution_count": null,
   "metadata": {},
   "outputs": [],
   "source": [
    "str_month = input('Введите месяц рождения прописью:')\n",
    "str_month = str_month.lower()\n",
    "int_day = int(input('Введите число рождения:'))\n",
    "if ((int_day > 31) or (int_day < 1)):\n",
    "    print ('Введенное число некорректно!')\n",
    "else:\n",
    "    if ((((int_day >= 21) and (int_day <= 31)) and (str_month == 'март')) or (((int_day >= 1) and (int_day <= 20)) and (str_month == 'апрель'))):\n",
    "        print ('Вы Овен!')\n",
    "    elif ((((int_day >= 21) and (int_day <= 30)) and (str_month == 'апрель')) or (((int_day >= 1) and (int_day <= 20)) and (str_month == 'май'))):\n",
    "        print ('Вы Телец!')\n",
    "    elif ((((int_day >= 21) and (int_day <= 31)) and (str_month == 'май')) or (((int_day >= 1) and (int_day <= 20)) and (str_month == 'июнь'))):\n",
    "        print ('Вы Близнецы!')\n",
    "    elif ((((int_day >= 21) and (int_day <= 30)) and (str_month == 'июнь')) or (((int_day >= 1) and (int_day <= 22)) and (str_month == 'июль'))):\n",
    "        print ('Вы Рак!')\n",
    "    elif ((((int_day >= 23) and (int_day <= 31)) and (str_month == 'июль')) or (((int_day >= 1) and (int_day <= 22)) and (str_month == 'август'))):\n",
    "        print ('Вы Лев!')\n",
    "    elif ((((int_day >= 23) and (int_day <= 31)) and (str_month == 'август')) or (((int_day >= 1) and (int_day <= 22)) and (str_month == 'сентябрь'))):\n",
    "        print ('Вы Дева!')\n",
    "    elif ((((int_day >= 23) and (int_day <= 30)) and (str_month == 'сентябрь')) or (((int_day >= 1) and (int_day <= 22)) and (str_month == 'октябрь'))):\n",
    "        print ('Вы Весы!')\n",
    "    elif ((((int_day >= 23) and (int_day <= 31)) and (str_month == 'октябрь')) or (((int_day >= 1) and (int_day <= 22)) and (str_month == 'ноябрь'))):\n",
    "        print ('Вы Скорпион!')\n",
    "    elif ((((int_day >= 23) and (int_day <= 30)) and (str_month == 'ноябрь')) or (((int_day >= 1) and (int_day <= 21)) and (str_month == 'декабрь'))):\n",
    "        print ('Вы Стрелец!')\n",
    "    elif ((((int_day >= 22) and (int_day <= 31)) and (str_month == 'декабрь')) or (((int_day >= 1) and (int_day <= 19)) and (str_month == 'январь'))):\n",
    "        print ('Вы Козерог!')\n",
    "    elif ((((int_day >= 20) and (int_day <= 31)) and (str_month == 'январь')) or (((int_day >= 1) and (int_day <= 19)) and (str_month == 'февраль'))):\n",
    "        print ('Вы Водолей!')\n",
    "    elif ((((int_day >= 20) and (int_day <= 29)) and (str_month == 'февраль')) or (((int_day >= 1) and (int_day <= 20)) and (str_month == 'март'))):\n",
    "        print ('Вы Рыбы!')\n",
    "    else:\n",
    "        print('Месяц рождения введен некорректно!')\n",
    "  "
   ]
  },
  {
   "cell_type": "markdown",
   "metadata": {},
   "source": [
    "## Задание 4\n"
   ]
  },
  {
   "cell_type": "code",
   "execution_count": null,
   "metadata": {},
   "outputs": [],
   "source": [
    "\n",
    "salary = round(float(input('Введите ЗП за месяц:')), 2)\n",
    "mortgage = int(input('Введите % на ипотеку:'))\n",
    "if ((mortgage >= 100) or (mortgage <= 0)):\n",
    "    print('Неверный процент на ипотеку!')\n",
    "else:\n",
    "    life = int(input('Введите % на \"жизнь\":'))\n",
    "    if ((life > (100 - mortgage)) or (life < 1)):\n",
    "        print('Неверный процент на жизнь!')\n",
    "    else:\n",
    "        qbonus = int(input('Введите кол-во премий в год:'))\n",
    "        bonus = 0\n",
    "        if (qbonus >= 1):\n",
    "            bonus = round((salary*qbonus) / 2, 2)\n",
    "    \n",
    "        year_mortgage = round(salary * mortgage / 100, 2) * 12\n",
    "        year_life = round(salary * life / 100, 2) * 12\n",
    "        keep = (salary * 12) + bonus - year_life - year_mortgage\n",
    "        print('На ипотеку было потрачено: ' + str(year_mortgage))\n",
    "        print('Было отложено: ' + str(keep))"
   ]
  }
 ],
 "metadata": {
  "celltoolbar": "Slideshow",
  "kernelspec": {
   "display_name": "Python 3",
   "language": "python",
   "name": "python3"
  },
  "language_info": {
   "codemirror_mode": {
    "name": "ipython",
    "version": 3
   },
   "file_extension": ".py",
   "mimetype": "text/x-python",
   "name": "python",
   "nbconvert_exporter": "python",
   "pygments_lexer": "ipython3",
   "version": "3.7.6"
  }
 },
 "nbformat": 4,
 "nbformat_minor": 4
}
