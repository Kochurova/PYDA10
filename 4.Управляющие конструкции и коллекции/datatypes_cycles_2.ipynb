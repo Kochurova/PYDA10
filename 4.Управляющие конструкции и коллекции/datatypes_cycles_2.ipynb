{
 "cells": [
  {
   "cell_type": "markdown",
   "metadata": {},
   "source": [
    "**Задание 1**. Дан список с визитами по городам и странам. \n",
    "Напишите код, который возвращает отфильтрованный список geo_logs, содержащий только визиты из России."
   ]
  },
  {
   "cell_type": "code",
   "execution_count": null,
   "metadata": {},
   "outputs": [],
   "source": [
    "geo_logs = [\n",
    "    {'visit1': ['Москва', 'Россия']},\n",
    "    {'visit2': ['Дели', 'Индия']},\n",
    "    {'visit3': ['Владимир', 'Россия']},\n",
    "    {'visit4': ['Лиссабон', 'Португалия']},\n",
    "    {'visit5': ['Париж', 'Франция']},\n",
    "    {'visit6': ['Лиссабон', 'Португалия']},\n",
    "    {'visit7': ['Тула', 'Россия']},\n",
    "    {'visit8': ['Тула', 'Россия']},\n",
    "    {'visit9': ['Курск', 'Россия']},\n",
    "    {'visit10': ['Архангельск', 'Россия']}\n",
    "]\n",
    " \n",
    "city_country = ''\n",
    "for visit in geo_logs:\n",
    "    city_country = list(visit.values())\n",
    "    if ((city_country[0][1]) == 'Россия'):\n",
    "        print(visit)\n",
    "    "
   ]
  },
  {
   "cell_type": "markdown",
   "metadata": {},
   "source": [
    "**Задание 2**. Выведите на экран все уникальные гео-ID из значений словаря ids. Т. е. список вида [213, 15, 54, 119, 98, 35]"
   ]
  },
  {
   "cell_type": "code",
   "execution_count": null,
   "metadata": {},
   "outputs": [],
   "source": [
    "ids = {'user1': [213, 213, 213, 15, 213], \n",
    "       'user2': [54, 54, 119, 119, 119], \n",
    "       'user3': [213, 98, 98, 35]}\n",
    "uniq_id = []\n",
    "\n",
    "for usr1 in ids.items():\n",
    "    #print(ids.items())\n",
    "    for ii in usr1[1]:\n",
    "        if (ii not in uniq_id):\n",
    "            uniq_id.append(ii)\n",
    "print(uniq_id)"
   ]
  },
  {
   "cell_type": "markdown",
   "metadata": {},
   "source": [
    "**Задание 3**. Дан список поисковых запросов. Получить распределение количества слов в них. \n",
    "Т. е. поисковых запросов из одного - слова 5%, из двух - 7%, из трех - 3% и т.д."
   ]
  },
  {
   "cell_type": "code",
   "execution_count": null,
   "metadata": {},
   "outputs": [],
   "source": [
    "queries = [\n",
    "    'смотреть сериалы онлайн',\n",
    "    'новости спорта',\n",
    "    'афиша кино',\n",
    "    'курс доллара',\n",
    "    'сериалы этим летом',\n",
    "    'курс по питону',\n",
    "    'сериалы про спорт',\n",
    "    'детективы',\n",
    "]\n",
    "llen = len(queries)\n",
    "quant_words = []\n",
    "unique_quant = []\n",
    "procinlist = 0\n",
    "if (llen > 0):\n",
    "    for ii in queries:\n",
    "        quant_words.append(len(ii.split(' ')))\n",
    "    unique_quant = list(set(quant_words))\n",
    "    #print(unique_quant)\n",
    "    for i in unique_quant:\n",
    "        procinlist = quant_words.count(i) * 100 / llen\n",
    "        print ('Количество слов:', i, 'Процент распределения:' , procinlist)"
   ]
  },
  {
   "cell_type": "markdown",
   "metadata": {},
   "source": [
    "**Задание 4**. Дана статистика рекламных каналов по объемам продаж. Напишите скрипт, который возвращает название канала с максимальным объемом.\n",
    "Т. е. в данном примере скрипт должен возвращать 'yandex'."
   ]
  },
  {
   "cell_type": "code",
   "execution_count": null,
   "metadata": {},
   "outputs": [],
   "source": [
    "stats = {'facebook': 55, 'yandex': 120, 'vk': 115, 'google': 99, 'email': 42, 'ok': 98}\n",
    "maxvol = max(list(stats.values()))\n",
    "for k, v in stats.items():\n",
    "    if v == maxvol:\n",
    "        print(k)"
   ]
  },
  {
   "cell_type": "markdown",
   "metadata": {},
   "source": [
    "**Задание 5**. Напишите код для преобразования произвольного списка вида ['2018-01-01', 'yandex', 'cpc', 100] (он может быть любой длины) в словарь {'2018-01-01': {'yandex': {'cpc': 100}}}"
   ]
  },
  {
   "cell_type": "code",
   "execution_count": null,
   "metadata": {},
   "outputs": [],
   "source": [
    "list1 =  ['hohoho','2018-01-01', 'yandex', 'cpc', 100]\n",
    "#dict2 = {}\n",
    "llen = len(list1)\n",
    "if (llen >= 2):\n",
    "    dict1 = {list1[-2] : list1[-1]} \n",
    "    ii = (llen - 3)\n",
    "    if ii >= 0:\n",
    "        while ii >= 0:\n",
    "            dict2 = {}\n",
    "            dict2[list1[ii]] = dict1\n",
    "            ii -= 1\n",
    "            dict1 = dict2\n",
    "        print (dict2)\n",
    "    else:\n",
    "        print (dict1)\n",
    "else:\n",
    "    print('Нельзя получить ключ-значение!')"
   ]
  },
  {
   "cell_type": "code",
   "execution_count": null,
   "metadata": {},
   "outputs": [],
   "source": []
  },
  {
   "cell_type": "code",
   "execution_count": null,
   "metadata": {},
   "outputs": [],
   "source": []
  }
 ],
 "metadata": {
  "kernelspec": {
   "display_name": "Python 3",
   "language": "python",
   "name": "python3"
  },
  "language_info": {
   "codemirror_mode": {
    "name": "ipython",
    "version": 3
   },
   "file_extension": ".py",
   "mimetype": "text/x-python",
   "name": "python",
   "nbconvert_exporter": "python",
   "pygments_lexer": "ipython3",
   "version": "3.7.6"
  }
 },
 "nbformat": 4,
 "nbformat_minor": 2
}
